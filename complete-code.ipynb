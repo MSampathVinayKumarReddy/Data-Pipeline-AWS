{
 "cells": [
  {
   "cell_type": "code",
   "execution_count": 1,
   "id": "0469991b",
   "metadata": {},
   "outputs": [],
   "source": [
    "import boto3 #for AWS\n",
    "import pandas as pd\n",
    "import psycopg2 #for SQL\n",
    "import json "
   ]
  },
  {
   "cell_type": "code",
   "execution_count": 2,
   "id": "e361f736",
   "metadata": {},
   "outputs": [],
   "source": [
    "#reading config file\n",
    "import configparser\n",
    "config = configparser.ConfigParser()\n",
    "config.read_file(open('cluster.config'))"
   ]
  },
  {
   "cell_type": "code",
   "execution_count": 3,
   "id": "748b52a0",
   "metadata": {},
   "outputs": [
    {
     "data": {
      "text/plain": [
       "'redshift-s3-access'"
      ]
     },
     "execution_count": 3,
     "metadata": {},
     "output_type": "execute_result"
    }
   ],
   "source": [
    "#read the data inside config file\n",
    "config.get('DWH', 'DWH_IAM_ROLE_NAME')"
   ]
  },
  {
   "cell_type": "code",
   "execution_count": null,
   "id": "b006d0e4",
   "metadata": {},
   "outputs": [],
   "source": [
    "KEY = config.get('AWS','KEY')\n",
    "SECRET = config.get('AWS','SECRET')\n",
    "\n",
    "DWH_CLUSTER_TYPE = config.get('DWH','DWH_CLUSTER_TYPE')\n",
    "DWH_NUM_NODES = config.get('DWH','DWH_NUM_NODES')\n",
    "DWH_NODE_TYPE = config.get('DWH','DWH_NODE_TYPE')\n",
    "DWH_CLUSTER_IDENTIFIER = config.get('DWH','DWH_CLUSTER_IDENTIFIER')\n",
    "\n",
    "DWH_DB = config.get('DWH','DWH_DB')\n",
    "DWH_DB_USER = config.get('DWH','DWH_DB_USER')\n",
    "DWH_DB_PASSWORD = config.get('DWH','DWH_DB_PASSWORD')\n",
    "DWH_PORT = config.get('DWH','DWH_PORT')\n",
    "DWH_IAM_ROLE_NAME = config.get('DWH','DWH_IAM_ROLE_NAME')\n",
    "\n",
    "print((KEY), (SECRET), DWH_IAM_ROLE_NAME)"
   ]
  },
  {
   "cell_type": "code",
   "execution_count": 5,
   "id": "16bbf61d",
   "metadata": {},
   "outputs": [
    {
     "data": {
      "text/html": [
       "<div>\n",
       "<style scoped>\n",
       "    .dataframe tbody tr th:only-of-type {\n",
       "        vertical-align: middle;\n",
       "    }\n",
       "\n",
       "    .dataframe tbody tr th {\n",
       "        vertical-align: top;\n",
       "    }\n",
       "\n",
       "    .dataframe thead th {\n",
       "        text-align: right;\n",
       "    }\n",
       "</style>\n",
       "<table border=\"1\" class=\"dataframe\">\n",
       "  <thead>\n",
       "    <tr style=\"text-align: right;\">\n",
       "      <th></th>\n",
       "      <th>Param</th>\n",
       "      <th>Value</th>\n",
       "    </tr>\n",
       "  </thead>\n",
       "  <tbody>\n",
       "    <tr>\n",
       "      <th>0</th>\n",
       "      <td>DWH_CLUSTER_TYPE</td>\n",
       "      <td>single-node</td>\n",
       "    </tr>\n",
       "    <tr>\n",
       "      <th>1</th>\n",
       "      <td>DWH_NUM_NODES</td>\n",
       "      <td>1</td>\n",
       "    </tr>\n",
       "    <tr>\n",
       "      <th>2</th>\n",
       "      <td>DWH_NODE_TYPE</td>\n",
       "      <td>dc2.large</td>\n",
       "    </tr>\n",
       "    <tr>\n",
       "      <th>3</th>\n",
       "      <td>DWH_CLUSTER_IDENTIFIER</td>\n",
       "      <td>my-first-redshift</td>\n",
       "    </tr>\n",
       "    <tr>\n",
       "      <th>4</th>\n",
       "      <td>DWH_DB</td>\n",
       "      <td>flight</td>\n",
       "    </tr>\n",
       "    <tr>\n",
       "      <th>5</th>\n",
       "      <td>DWH_DB_USER</td>\n",
       "      <td>awsuser</td>\n",
       "    </tr>\n",
       "    <tr>\n",
       "      <th>6</th>\n",
       "      <td>DWH_DB_PASSWORD</td>\n",
       "      <td>Sampath777</td>\n",
       "    </tr>\n",
       "    <tr>\n",
       "      <th>7</th>\n",
       "      <td>DWH_PORT</td>\n",
       "      <td>5439</td>\n",
       "    </tr>\n",
       "    <tr>\n",
       "      <th>8</th>\n",
       "      <td>DWH_IAM_ROLE_NAME</td>\n",
       "      <td>redshift-s3-access</td>\n",
       "    </tr>\n",
       "  </tbody>\n",
       "</table>\n",
       "</div>"
      ],
      "text/plain": [
       "                    Param               Value\n",
       "0        DWH_CLUSTER_TYPE         single-node\n",
       "1           DWH_NUM_NODES                   1\n",
       "2           DWH_NODE_TYPE           dc2.large\n",
       "3  DWH_CLUSTER_IDENTIFIER   my-first-redshift\n",
       "4                  DWH_DB              flight\n",
       "5             DWH_DB_USER             awsuser\n",
       "6         DWH_DB_PASSWORD          Sampath777\n",
       "7                DWH_PORT                5439\n",
       "8       DWH_IAM_ROLE_NAME  redshift-s3-access"
      ]
     },
     "execution_count": 5,
     "metadata": {},
     "output_type": "execute_result"
    }
   ],
   "source": [
    "#converting data into a pandas df just for analysis\n",
    "pd.DataFrame(\n",
    "    \n",
    "{\n",
    "    \"Param\": [\n",
    "\"DWH_CLUSTER_TYPE\",\n",
    "\"DWH_NUM_NODES\", \n",
    "\"DWH_NODE_TYPE\",\n",
    "\"DWH_CLUSTER_IDENTIFIER\",\n",
    "\"DWH_DB\",\n",
    "\"DWH_DB_USER\",\n",
    "\"DWH_DB_PASSWORD\",\n",
    "\"DWH_PORT\",\n",
    "\"DWH_IAM_ROLE_NAME\"],\n",
    "    \n",
    "    \"Value\": [\n",
    "DWH_CLUSTER_TYPE,\n",
    "DWH_NUM_NODES, \n",
    "DWH_NODE_TYPE,\n",
    "DWH_CLUSTER_IDENTIFIER,\n",
    "DWH_DB,\n",
    "DWH_DB_USER,\n",
    "DWH_DB_PASSWORD,\n",
    "DWH_PORT,\n",
    "DWH_IAM_ROLE_NAME]\n",
    "    \n",
    "}\n",
    "\n",
    ")"
   ]
  },
  {
   "cell_type": "code",
   "execution_count": 6,
   "id": "b17b0e3d",
   "metadata": {},
   "outputs": [],
   "source": [
    "#creating objects for ec2, iam, redshift, s3\n",
    "\n",
    "ec2 = boto3.resource('ec2', region_name = \"ap-south-1\", aws_access_key_id = KEY, aws_secret_access_key = SECRET)\n",
    "\n",
    "s3= boto3.resource('s3', region_name = \"ap-south-1\", aws_access_key_id = KEY, aws_secret_access_key = SECRET)\n",
    "\n",
    "iam = boto3.client('iam', region_name = \"ap-south-1\",aws_access_key_id = KEY, aws_secret_access_key = SECRET)\n",
    "\n",
    "redshift = boto3.client('redshift', region_name = \"ap-south-1\", aws_access_key_id = KEY, aws_secret_access_key = SECRET)"
   ]
  },
  {
   "cell_type": "code",
   "execution_count": 7,
   "id": "e25b8847",
   "metadata": {},
   "outputs": [
    {
     "data": {
      "text/plain": [
       "['allevents_pipe.txt',\n",
       " 'allusers_pipe.txt',\n",
       " 'category_pipe.txt',\n",
       " 'date2008_pipe.txt',\n",
       " 'listings_pipe.txt',\n",
       " 'sales_tab.txt',\n",
       " 'venue_pipe.txt']"
      ]
     },
     "execution_count": 7,
     "metadata": {},
     "output_type": "execute_result"
    }
   ],
   "source": [
    "#reading the files inside the bucket\n",
    "\n",
    "bucket = s3.Bucket(\"python-datapipeline-project-bucket\")\n",
    "files_inside = [filename.key for filename in bucket.objects.filter(Prefix='')]\n",
    "files_inside"
   ]
  },
  {
   "cell_type": "code",
   "execution_count": 8,
   "id": "5c1e0440",
   "metadata": {},
   "outputs": [
    {
     "data": {
      "text/plain": [
       "'arn:aws:iam::601549810023:role/redshift-s3-access'"
      ]
     },
     "execution_count": 8,
     "metadata": {},
     "output_type": "execute_result"
    }
   ],
   "source": [
    "#reading the ROLE arn value to give permission to redshift\n",
    "\n",
    "roleArn = iam.get_role(RoleName = DWH_IAM_ROLE_NAME)['Role']['Arn']\n",
    "roleArn"
   ]
  },
  {
   "attachments": {
    "image.png": {
     "image/png": "[encoded data removed]"
    }
   },
   "cell_type": "markdown",
   "id": "065d1d43",
   "metadata": {},
   "source": [
    "![image.png](attachment:image.png)\n"
   ]
  },
  {
   "cell_type": "code",
   "execution_count": 9,
   "id": "6b9d3400",
   "metadata": {},
   "outputs": [],
   "source": [
    "#create cluster in Redshift\n",
    "try:\n",
    "    response = redshift.create_cluster(\n",
    "        \n",
    "    #cluster related info\n",
    "    ClusterType = DWH_CLUSTER_TYPE,\n",
    "    NodeType = DWH_NODE_TYPE,\n",
    "    \n",
    "    #db related    \n",
    "    DBName = DWH_DB,\n",
    "    ClusterIdentifier = DWH_CLUSTER_IDENTIFIER,\n",
    "    MasterUsername = DWH_DB_USER,\n",
    "    MasterUserPassword = DWH_DB_PASSWORD,\n",
    "    \n",
    "    #iam credentials\n",
    "    IamRoles = [roleArn]\n",
    "    )\n",
    "    \n",
    "except Exception as e:\n",
    "    print(e)"
   ]
  },
  {
   "cell_type": "code",
   "execution_count": 10,
   "id": "e74b522d",
   "metadata": {},
   "outputs": [
    {
     "data": {
      "text/plain": [
       "{'ClusterIdentifier': 'my-first-redshift',\n",
       " 'NodeType': 'dc2.large',\n",
       " 'ClusterStatus': 'available',\n",
       " 'ClusterAvailabilityStatus': 'Available',\n",
       " 'MasterUsername': 'awsuser',\n",
       " 'DBName': 'flight',\n",
       " 'Endpoint': {'Address': 'my-first-redshift.cttp7j09jd4m.ap-south-1.redshift.amazonaws.com',\n",
       "  'Port': 5439},\n",
       " 'ClusterCreateTime': datetime.datetime(2022, 11, 16, 4, 54, 47, 169000, tzinfo=tzutc()),\n",
       " 'AutomatedSnapshotRetentionPeriod': 1,\n",
       " 'ManualSnapshotRetentionPeriod': -1,\n",
       " 'ClusterSecurityGroups': [],\n",
       " 'VpcSecurityGroups': [{'VpcSecurityGroupId': 'sg-0c61e17415b154860',\n",
       "   'Status': 'active'}],\n",
       " 'ClusterParameterGroups': [{'ParameterGroupName': 'default.redshift-1.0',\n",
       "   'ParameterApplyStatus': 'in-sync'}],\n",
       " 'ClusterSubnetGroupName': 'default',\n",
       " 'VpcId': 'vpc-0a6259697888f41b0',\n",
       " 'AvailabilityZone': 'ap-south-1b',\n",
       " 'PreferredMaintenanceWindow': 'sat:07:00-sat:07:30',\n",
       " 'PendingModifiedValues': {},\n",
       " 'ClusterVersion': '1.0',\n",
       " 'AllowVersionUpgrade': True,\n",
       " 'NumberOfNodes': 1,\n",
       " 'PubliclyAccessible': True,\n",
       " 'Encrypted': False,\n",
       " 'ClusterPublicKey': 'ssh-rsa AAAAB3NzaC1yc2EAAAADAQABAAABAQCAOvxvCmMAu2Ar4m92P2K+hO5XBr7vF02zx6Yj0C/2MZbcLPLrkMVLh1EP9rUvsg66qG2oczGYJ9goAM6umL+vwI/dB+kWp1VDXesNMwIFGDcw3tGOUDXgi2bFt+56zup5IF6hFnLITUTfokimR42YMZy0Lu9IqLeANj6v22U9fIcokNWmjYiSj6yKe2t/Xx9KJjYR/8C19Ji9l3IN35LbTgSgivsnRnmyqvmsWM4n40WjNceQpxD9lNQ2wTLw+NBz1GxE2h14BILGYwgB79mhKkoeM02/+tbjizlwBTnnLzCimOyJRFPE7EOpxXhyEpishQGqA+GIIa3s2RsX/XAF Amazon-Redshift\\n',\n",
       " 'ClusterNodes': [{'NodeRole': 'SHARED',\n",
       "   'PrivateIPAddress': '172.31.11.164',\n",
       "   'PublicIPAddress': '65.1.137.11'}],\n",
       " 'ClusterRevisionNumber': '43551',\n",
       " 'Tags': [],\n",
       " 'EnhancedVpcRouting': False,\n",
       " 'IamRoles': [{'IamRoleArn': 'arn:aws:iam::601549810023:role/redshift-s3-access',\n",
       "   'ApplyStatus': 'in-sync'}],\n",
       " 'MaintenanceTrackName': 'current',\n",
       " 'DeferredMaintenanceWindows': [],\n",
       " 'NextMaintenanceWindowStartTime': datetime.datetime(2022, 11, 19, 7, 0, tzinfo=tzutc()),\n",
       " 'AvailabilityZoneRelocationStatus': 'disabled',\n",
       " 'ClusterNamespaceArn': 'arn:aws:redshift:ap-south-1:601549810023:namespace:7205cc5a-24d5-4033-97e2-4c5d9d187091',\n",
       " 'AquaConfiguration': {'AquaStatus': 'disabled',\n",
       "  'AquaConfigurationStatus': 'auto'}}"
      ]
     },
     "execution_count": 10,
     "metadata": {},
     "output_type": "execute_result"
    }
   ],
   "source": [
    "#redshift cluster info using Python\n",
    "\n",
    "redshift.describe_clusters(ClusterIdentifier = DWH_CLUSTER_IDENTIFIER)['Clusters'][0]"
   ]
  },
  {
   "cell_type": "code",
   "execution_count": 11,
   "id": "b7d0b968",
   "metadata": {},
   "outputs": [
    {
     "data": {
      "text/html": [
       "<div>\n",
       "<style scoped>\n",
       "    .dataframe tbody tr th:only-of-type {\n",
       "        vertical-align: middle;\n",
       "    }\n",
       "\n",
       "    .dataframe tbody tr th {\n",
       "        vertical-align: top;\n",
       "    }\n",
       "\n",
       "    .dataframe thead th {\n",
       "        text-align: right;\n",
       "    }\n",
       "</style>\n",
       "<table border=\"1\" class=\"dataframe\">\n",
       "  <thead>\n",
       "    <tr style=\"text-align: right;\">\n",
       "      <th></th>\n",
       "      <th>Key</th>\n",
       "      <th>Value</th>\n",
       "    </tr>\n",
       "  </thead>\n",
       "  <tbody>\n",
       "    <tr>\n",
       "      <th>0</th>\n",
       "      <td>ClusterIdentifier</td>\n",
       "      <td>my-first-redshift</td>\n",
       "    </tr>\n",
       "    <tr>\n",
       "      <th>1</th>\n",
       "      <td>NodeType</td>\n",
       "      <td>dc2.large</td>\n",
       "    </tr>\n",
       "    <tr>\n",
       "      <th>2</th>\n",
       "      <td>ClusterStatus</td>\n",
       "      <td>available</td>\n",
       "    </tr>\n",
       "    <tr>\n",
       "      <th>3</th>\n",
       "      <td>MasterUsername</td>\n",
       "      <td>awsuser</td>\n",
       "    </tr>\n",
       "    <tr>\n",
       "      <th>4</th>\n",
       "      <td>DBName</td>\n",
       "      <td>flight</td>\n",
       "    </tr>\n",
       "    <tr>\n",
       "      <th>5</th>\n",
       "      <td>Endpoint</td>\n",
       "      <td>{'Address': 'my-first-redshift.cttp7j09jd4m.ap...</td>\n",
       "    </tr>\n",
       "    <tr>\n",
       "      <th>6</th>\n",
       "      <td>VpcId</td>\n",
       "      <td>vpc-0a6259697888f41b0</td>\n",
       "    </tr>\n",
       "  </tbody>\n",
       "</table>\n",
       "</div>"
      ],
      "text/plain": [
       "                 Key                                              Value\n",
       "0  ClusterIdentifier                                  my-first-redshift\n",
       "1           NodeType                                          dc2.large\n",
       "2      ClusterStatus                                          available\n",
       "3     MasterUsername                                            awsuser\n",
       "4             DBName                                             flight\n",
       "5           Endpoint  {'Address': 'my-first-redshift.cttp7j09jd4m.ap...\n",
       "6              VpcId                              vpc-0a6259697888f41b0"
      ]
     },
     "execution_count": 11,
     "metadata": {},
     "output_type": "execute_result"
    }
   ],
   "source": [
    "#to get the above information in a proper df, we can write a python function\n",
    "\n",
    "def redshiftProperties(props):\n",
    "    keys = [\"ClusterIdentifier\", \"NodeType\", \"ClusterStatus\", \"MasterUsername\", \"DBName\", \"Endpoint\", \"VpcId\"]\n",
    "    x = [(k, v) for k, v in props.items() if k in keys]\n",
    "    return pd.DataFrame(data = x, columns=['Key', 'Value'])\n",
    "\n",
    "myClusterProps = redshift.describe_clusters(ClusterIdentifier = DWH_CLUSTER_IDENTIFIER)['Clusters'][0]\n",
    "redshiftProperties(myClusterProps)"
   ]
  },
  {
   "cell_type": "code",
   "execution_count": 13,
   "id": "602a8a74",
   "metadata": {},
   "outputs": [],
   "source": [
    "#creating variables to store DWH information\n",
    "DWH_ENDPOINT = myClusterProps['Endpoint']['Address']\n",
    "DWH_ROLE_ARN = myClusterProps['IamRoles'][0]['IamRoleArn']\n",
    "DB_NAME = myClusterProps['DBName']\n",
    "DB_USER = myClusterProps['MasterUsername']"
   ]
  },
  {
   "cell_type": "code",
   "execution_count": 17,
   "id": "e68af882",
   "metadata": {},
   "outputs": [],
   "source": [
    "#create security for cluster using VPC through ec2"
   ]
  },
  {
   "cell_type": "code",
   "execution_count": 18,
   "id": "1688d2d4",
   "metadata": {},
   "outputs": [],
   "source": [
    "#Now connecting to Redshift cluster using psycopg2 (SQL api to connect) using python\n",
    "\n",
    "try:\n",
    "    conn = psycopg2.connect(host = DWH_ENDPOINT, dbname = DB_NAME, user = DB_USER, password = 'Sampath777', port = 5439)\n",
    "except Exception as e:\n",
    "    print(\"Cannot create connection to database\")\n",
    "    print(e)\n",
    "    \n",
    "conn.set_session(autocommit = True)"
   ]
  },
  {
   "cell_type": "code",
   "execution_count": 19,
   "id": "0eddb250",
   "metadata": {},
   "outputs": [],
   "source": [
    "#creating cursor to execute commands\n",
    "\n",
    "try:\n",
    "    cur = conn.cursor()\n",
    "except Exception as e:\n",
    "    print(\"could not get cursor to the db\")\n",
    "    print(e)"
   ]
  },
  {
   "cell_type": "code",
   "execution_count": 20,
   "id": "4e836c1b",
   "metadata": {},
   "outputs": [],
   "source": [
    "#creating table for allusers data\n",
    "\n",
    "try:\n",
    "    cur.execute(\"\"\"\n",
    "    create table users(\n",
    "    userid integer not null distkey sortkey,\n",
    "    username char(8),\n",
    "    firstname varchar(30),\n",
    "    lastname varchar(30),\n",
    "    city varchar(30),\n",
    "    state char(2),\n",
    "    email varchar(100),\n",
    "    phone char(14),\n",
    "    likesports boolean,\n",
    "    liketheatre boolean,\n",
    "    likeconcerts boolean,\n",
    "    likejazz boolean,\n",
    "    likeclassical boolean,\n",
    "    likeopera boolean,\n",
    "    likerock boolean,\n",
    "    likevegas boolean,\n",
    "    likebroadway boolean,\n",
    "    likemusicals boolean\n",
    "    );\n",
    "    \"\"\")\n",
    "except psycopg2.Error as e:\n",
    "    print('error creating table')\n",
    "    print(e)"
   ]
  },
  {
   "cell_type": "code",
   "execution_count": 22,
   "id": "82f86c4e",
   "metadata": {},
   "outputs": [],
   "source": [
    "#creating venue table\n",
    "\n",
    "try:\n",
    "    cur.execute(\"\"\"\n",
    "    create table venue(\n",
    "    venueid smallint not null distkey sortkey ,\n",
    "    venuename varchar(100),\n",
    "    venuecity varchar(30),\n",
    "    venuestate char(2),\n",
    "    venueseats integer);\n",
    "    \"\"\")\n",
    "except psycopg2.Error as e:\n",
    "    print('error creating table')\n",
    "    print(e)"
   ]
  },
  {
   "cell_type": "code",
   "execution_count": 23,
   "id": "4b296b11",
   "metadata": {},
   "outputs": [],
   "source": [
    "#create tables for remaining data\n",
    "\n",
    "try:\n",
    "    cur.execute(\"\"\"\n",
    "    create table category(\n",
    "    catid smallint not null distkey sortkey,\n",
    "    catgroup varchar(10),\n",
    "    catname varchar(10),\n",
    "    catdesc varchar(50)\n",
    "    );\n",
    "    \n",
    "    create table date(\n",
    "    dateid smallint not null distkey sortkey,\n",
    "    caldate date not null,\n",
    "    day character(3) not null,\n",
    "    week smallint not null,\n",
    "    month character(5) not null,\n",
    "    qtr character(5) not null,\n",
    "    year smallint not null,\n",
    "    holiday boolean default('N')\n",
    "    );\n",
    "    \n",
    "    create table event(\n",
    "    eventid integer not null distkey,\n",
    "    venueid smallint not null,\n",
    "    catid smallint not null,\n",
    "    dateid smallint not null sortkey, \n",
    "    eventname varchar(200),\n",
    "    starttime timestamp\n",
    "    );\n",
    "    \n",
    "    create table listing(\n",
    "    listid integer not null distkey, \n",
    "    sellerid integer not null,\n",
    "    eventid integer not null,\n",
    "    dateid smallint not null sortkey,\n",
    "    numtickets smallint not null,\n",
    "    priceperticket decimal(8,2),\n",
    "    totalprice decimal(8,2),\n",
    "    listtime timestamp\n",
    "    );\n",
    "    \n",
    "    \"\"\")\n",
    "    \n",
    "except psycopg2.Error as e:\n",
    "    print('error creating tables')\n",
    "    print(e)"
   ]
  },
  {
   "cell_type": "code",
   "execution_count": 26,
   "id": "8aee3390",
   "metadata": {},
   "outputs": [],
   "source": [
    "#now sending the data from s3 to tables in Redshift using COPY command\n",
    "\n",
    "try:\n",
    "    cur.execute(\"\"\"\n",
    "    copy users from 's3://python-datapipeline-project-bucket/allusers_pipe.txt'\n",
    "    credentials 'aws_iam_role=arn:aws:iam::601549810023:role/redshift-s3-access'\n",
    "    delimiter '|'\n",
    "    region 'ap-south-1'\n",
    "    \"\"\")\n",
    "except psycopg2.Error as e:\n",
    "    print('errooorrrr')\n",
    "    print(e)"
   ]
  },
  {
   "cell_type": "code",
   "execution_count": 27,
   "id": "50acb58d",
   "metadata": {},
   "outputs": [],
   "source": [
    "try:\n",
    "    cur.execute(\"\"\"\n",
    "    copy venue from 's3://python-datapipeline-project-bucket/venue_pipe.txt'\n",
    "    credentials 'aws_iam_role=arn:aws:iam::601549810023:role/redshift-s3-access'\n",
    "    delimiter '|'\n",
    "    region 'ap-south-1'\n",
    "    \"\"\")\n",
    "except psycopg2.Error as e:\n",
    "    print('errooorrrr')\n",
    "    print(e)"
   ]
  },
  {
   "cell_type": "code",
   "execution_count": 28,
   "id": "d205e0c6",
   "metadata": {},
   "outputs": [],
   "source": [
    "try:\n",
    "    cur.execute(\"\"\"\n",
    "    copy category from 's3://python-datapipeline-project-bucket/category_pipe.txt'\n",
    "    credentials 'aws_iam_role=arn:aws:iam::601549810023:role/redshift-s3-access'\n",
    "    delimiter '|'\n",
    "    region 'ap-south-1'\n",
    "    \"\"\")\n",
    "except psycopg2.Error as e:\n",
    "    print('errooorrrr')\n",
    "    print(e)"
   ]
  },
  {
   "cell_type": "code",
   "execution_count": 29,
   "id": "a4481fcc",
   "metadata": {},
   "outputs": [],
   "source": [
    "try:\n",
    "    cur.execute(\"\"\"\n",
    "    copy date from 's3://python-datapipeline-project-bucket/date2008_pipe.txt'\n",
    "    credentials 'aws_iam_role=arn:aws:iam::601549810023:role/redshift-s3-access'\n",
    "    delimiter '|'\n",
    "    region 'ap-south-1'\n",
    "    \"\"\")\n",
    "except psycopg2.Error as e:\n",
    "    print('errooorrrr')\n",
    "    print(e)"
   ]
  },
  {
   "cell_type": "code",
   "execution_count": 31,
   "id": "475e2ef3",
   "metadata": {},
   "outputs": [],
   "source": [
    "try:\n",
    "    cur.execute(\"\"\"\n",
    "    copy event from 's3://python-datapipeline-project-bucket/allevents_pipe.txt'\n",
    "    credentials 'aws_iam_role=arn:aws:iam::601549810023:role/redshift-s3-access'\n",
    "    delimiter '|'\n",
    "    region 'ap-south-1'\n",
    "    \"\"\")\n",
    "except psycopg2.Error as e:\n",
    "    print('errooorrrr')\n",
    "    print(e)"
   ]
  },
  {
   "cell_type": "code",
   "execution_count": 32,
   "id": "cb703232",
   "metadata": {},
   "outputs": [],
   "source": [
    "try:\n",
    "    cur.execute(\"\"\"\n",
    "    copy listing from 's3://python-datapipeline-project-bucket/listings_pipe.txt'\n",
    "    credentials 'aws_iam_role=arn:aws:iam::601549810023:role/redshift-s3-access'\n",
    "    delimiter '|'\n",
    "    region 'ap-south-1'\n",
    "    \"\"\")\n",
    "except psycopg2.Error as e:\n",
    "    print('errooorrrr')\n",
    "    print(e)"
   ]
  },
  {
   "cell_type": "code",
   "execution_count": 33,
   "id": "2b390c88",
   "metadata": {},
   "outputs": [],
   "source": [
    "#we should close the connection\n",
    "\n",
    "try:\n",
    "    conn.close()\n",
    "except psycopg2.Error as e:\n",
    "    print(e)"
   ]
  },
  {
   "cell_type": "code",
   "execution_count": 35,
   "id": "56f88c03",
   "metadata": {},
   "outputs": [
    {
     "data": {
      "text/plain": [
       "{'Cluster': {'ClusterIdentifier': 'my-first-redshift',\n",
       "  'NodeType': 'dc2.large',\n",
       "  'ClusterStatus': 'deleting',\n",
       "  'ClusterAvailabilityStatus': 'Modifying',\n",
       "  'MasterUsername': 'awsuser',\n",
       "  'DBName': 'flight',\n",
       "  'Endpoint': {'Address': 'my-first-redshift.cttp7j09jd4m.ap-south-1.redshift.amazonaws.com',\n",
       "   'Port': 5439},\n",
       "  'ClusterCreateTime': datetime.datetime(2022, 11, 16, 4, 54, 47, 169000, tzinfo=tzutc()),\n",
       "  'AutomatedSnapshotRetentionPeriod': 1,\n",
       "  'ManualSnapshotRetentionPeriod': -1,\n",
       "  'ClusterSecurityGroups': [],\n",
       "  'VpcSecurityGroups': [{'VpcSecurityGroupId': 'sg-0c61e17415b154860',\n",
       "    'Status': 'active'}],\n",
       "  'ClusterParameterGroups': [{'ParameterGroupName': 'default.redshift-1.0',\n",
       "    'ParameterApplyStatus': 'in-sync'}],\n",
       "  'ClusterSubnetGroupName': 'default',\n",
       "  'VpcId': 'vpc-0a6259697888f41b0',\n",
       "  'AvailabilityZone': 'ap-south-1b',\n",
       "  'PreferredMaintenanceWindow': 'sat:07:00-sat:07:30',\n",
       "  'PendingModifiedValues': {},\n",
       "  'ClusterVersion': '1.0',\n",
       "  'AllowVersionUpgrade': True,\n",
       "  'NumberOfNodes': 1,\n",
       "  'PubliclyAccessible': True,\n",
       "  'Encrypted': False,\n",
       "  'Tags': [],\n",
       "  'EnhancedVpcRouting': False,\n",
       "  'IamRoles': [{'IamRoleArn': 'arn:aws:iam::601549810023:role/redshift-s3-access',\n",
       "    'ApplyStatus': 'in-sync'}],\n",
       "  'MaintenanceTrackName': 'current',\n",
       "  'DeferredMaintenanceWindows': [],\n",
       "  'NextMaintenanceWindowStartTime': datetime.datetime(2022, 11, 19, 7, 0, tzinfo=tzutc()),\n",
       "  'TotalStorageCapacityInMegaBytes': 400000,\n",
       "  'AquaConfiguration': {'AquaStatus': 'disabled',\n",
       "   'AquaConfigurationStatus': 'auto'}},\n",
       " 'ResponseMetadata': {'RequestId': '76e71ec9-ff7f-4cb0-ade3-eeef9e7c86d3',\n",
       "  'HTTPStatusCode': 200,\n",
       "  'HTTPHeaders': {'x-amzn-requestid': '76e71ec9-ff7f-4cb0-ade3-eeef9e7c86d3',\n",
       "   'content-type': 'text/xml',\n",
       "   'content-length': '2741',\n",
       "   'date': 'Wed, 16 Nov 2022 06:30:24 GMT'},\n",
       "  'RetryAttempts': 0}}"
      ]
     },
     "execution_count": 35,
     "metadata": {},
     "output_type": "execute_result"
    }
   ],
   "source": [
    "#deleting the Redshift cluster\n",
    "\n",
    "redshift.delete_cluster(ClusterIdentifier = DWH_CLUSTER_IDENTIFIER, SkipFinalClusterSnapshot = True)"
   ]
  },
  {
   "cell_type": "code",
   "execution_count": null,
   "id": "a659b988",
   "metadata": {},
   "outputs": [],
   "source": []
  },
  {
   "cell_type": "code",
   "execution_count": null,
   "id": "c85f76f9",
   "metadata": {},
   "outputs": [],
   "source": []
  }
 ],
 "metadata": {
  "kernelspec": {
   "display_name": "Python 3 (ipykernel)",
   "language": "python",
   "name": "python3"
  },
  "language_info": {
   "codemirror_mode": {
    "name": "ipython",
    "version": 3
   },
   "file_extension": ".py",
   "mimetype": "text/x-python",
   "name": "python",
   "nbconvert_exporter": "python",
   "pygments_lexer": "ipython3",
   "version": "3.9.12"
  }
 },
 "nbformat": 4,
 "nbformat_minor": 5
}
